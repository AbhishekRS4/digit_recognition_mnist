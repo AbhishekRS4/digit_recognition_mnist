{
 "cells": [
  {
   "cell_type": "code",
   "execution_count": 1,
   "metadata": {},
   "outputs": [
    {
     "name": "stderr",
     "output_type": "stream",
     "text": [
      "/home/abhishek/.local/lib/python3.5/site-packages/h5py/__init__.py:36: FutureWarning: Conversion of the second argument of issubdtype from `float` to `np.floating` is deprecated. In future, it will be treated as `np.float64 == np.dtype(float).type`.\n",
      "  from ._conv import register_converters as _register_converters\n"
     ]
    }
   ],
   "source": [
    "import os\n",
    "import numpy as np\n",
    "from digits_net_infer import main"
   ]
  },
  {
   "cell_type": "code",
   "execution_count": 2,
   "metadata": {},
   "outputs": [
    {
     "name": "stdout",
     "output_type": "stream",
     "text": [
      "Reading the Config File..................\n",
      "Reading the Config File Completed........\n",
      "\n",
      "Reading Test Images.....................\n",
      "Reading Test Images Completed...........\n",
      "\n",
      "Preprocessing the data...................\n",
      "Preprocessing of the data Completed......\n",
      "\n",
      "Loading the Network.....................\n",
      "Loading the Network Completed...........\n",
      "\n",
      "Images shape : (10000, 1, 28, 28)\n",
      "Labels shape : (10000, 1)\n",
      "\n",
      "INFO:tensorflow:Restoring parameters from /home/abhishek/Desktop/deep_learning/computer_vision/digit_recognition_mnist/model_files_50/digits_model-50\n",
      "\n",
      "Inference Started.......................\n",
      "Inference Completed.....................\n",
      "Time Taken for Inference : 1.7614200115203857\n",
      "\n",
      "Accuracy Score of the model : 0.9879\n",
      "\n",
      "Confusion Matrix for the prediction : \n",
      "[[ 977    0    0    1    0    0    0    0    0    2]\n",
      " [   0 1134    1    0    0    0    0    0    0    0]\n",
      " [   1    6 1018    1    0    0    0    4    1    1]\n",
      " [   0    3    3  998    0    3    0    0    2    1]\n",
      " [   0    0    0    0  977    0    0    0    0    5]\n",
      " [   3    3    0    5    1  873    1    0    0    6]\n",
      " [   2    4    0    0    0    1  945    0    3    3]\n",
      " [   0   10    6    1    2    0    0 1007    0    2]\n",
      " [   2    0    4    1    1    0    0    0  965    1]\n",
      " [   2    2    2    0    9    0    0    0    9  985]]\n",
      "\n",
      "Original Labels : [0, 1, 2, 3, 4, 5, 6, 7, 8, 9]\n",
      "\n"
     ]
    }
   ],
   "source": [
    "main()"
   ]
  },
  {
   "cell_type": "code",
   "execution_count": null,
   "metadata": {},
   "outputs": [],
   "source": []
  }
 ],
 "metadata": {
  "kernelspec": {
   "display_name": "Python 3",
   "language": "python",
   "name": "python3"
  },
  "language_info": {
   "codemirror_mode": {
    "name": "ipython",
    "version": 3
   },
   "file_extension": ".py",
   "mimetype": "text/x-python",
   "name": "python",
   "nbconvert_exporter": "python",
   "pygments_lexer": "ipython3",
   "version": "3.5.2"
  }
 },
 "nbformat": 4,
 "nbformat_minor": 2
}
