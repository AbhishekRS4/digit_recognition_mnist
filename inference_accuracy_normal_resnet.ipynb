{
 "cells": [
  {
   "cell_type": "code",
   "execution_count": 1,
   "metadata": {},
   "outputs": [
    {
     "name": "stderr",
     "output_type": "stream",
     "text": [
      "/home/abhishek/.local/lib/python3.5/site-packages/h5py/__init__.py:36: FutureWarning: Conversion of the second argument of issubdtype from `float` to `np.floating` is deprecated. In future, it will be treated as `np.float64 == np.dtype(float).type`.\n",
      "  from ._conv import register_converters as _register_converters\n"
     ]
    }
   ],
   "source": [
    "import os\n",
    "from digits_net_infer import main"
   ]
  },
  {
   "cell_type": "markdown",
   "metadata": {},
   "source": [
    "### Inference for normal residual encoder based network"
   ]
  },
  {
   "cell_type": "code",
   "execution_count": 2,
   "metadata": {},
   "outputs": [
    {
     "name": "stdout",
     "output_type": "stream",
     "text": [
      "Reading the Config File..................\n",
      "Reading the Config File Completed........\n",
      "\n",
      "Reading Test Images.....................\n",
      "Reading Test Images Completed...........\n",
      "\n",
      "Preprocessing the data...................\n",
      "Preprocessing of the data Completed......\n",
      "\n",
      "Loading the Network.....................\n",
      "Loading the Network Completed...........\n",
      "\n",
      "Images shape : (10000, 1, 28, 28)\n",
      "Labels shape : (10000, 1)\n",
      "\n",
      "INFO:tensorflow:Restoring parameters from /home/abhishek/Desktop/deep_learning/computer_vision/digit_recognition_mnist/model_res_300/digits_res_model-300\n",
      "\n",
      "Inference Started.......................\n",
      "Inference Completed.....................\n",
      "Time Taken for Inference : 1.7906522750854492\n",
      "\n",
      "Accuracy Score of the model : 0.9947\n",
      "\n",
      "Confusion Matrix for the prediction : \n",
      "[[ 977    0    0    0    0    0    2    1    0    0]\n",
      " [   0 1134    0    1    0    0    0    0    0    0]\n",
      " [   1    0 1026    0    0    0    0    4    1    0]\n",
      " [   0    0    0 1007    0    2    0    0    1    0]\n",
      " [   1    0    0    0  976    0    0    1    1    3]\n",
      " [   0    0    0    5    0  886    1    0    0    0]\n",
      " [   3    3    0    0    1    0  950    0    1    0]\n",
      " [   0    4    3    0    0    0    0 1020    0    1]\n",
      " [   1    0    1    0    0    0    0    0  971    1]\n",
      " [   0    0    0    0    6    1    0    2    0 1000]]\n",
      "\n",
      "Original Labels : [0, 1, 2, 3, 4, 5, 6, 7, 8, 9]\n",
      "\n"
     ]
    }
   ],
   "source": [
    "main()"
   ]
  },
  {
   "cell_type": "code",
   "execution_count": null,
   "metadata": {},
   "outputs": [],
   "source": []
  }
 ],
 "metadata": {
  "kernelspec": {
   "display_name": "Python 3",
   "language": "python",
   "name": "python3"
  },
  "language_info": {
   "codemirror_mode": {
    "name": "ipython",
    "version": 3
   },
   "file_extension": ".py",
   "mimetype": "text/x-python",
   "name": "python",
   "nbconvert_exporter": "python",
   "pygments_lexer": "ipython3",
   "version": "3.5.2"
  }
 },
 "nbformat": 4,
 "nbformat_minor": 2
}
